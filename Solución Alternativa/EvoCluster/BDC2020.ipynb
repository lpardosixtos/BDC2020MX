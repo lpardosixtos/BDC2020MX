{
 "cells": [
  {
   "cell_type": "markdown",
   "metadata": {
    "id": "IiNG95DSmRmt"
   },
   "source": [
    "# BDC2020 Reto México (Solución Alternativa)\n",
    "## Luis Fernando Pardo Sixtos\n",
    "## Andrea Monserrat Ruiz Gómez\n",
    "\n",
    "\n",
    "Este código utiliza la librería EvoCluster para resolver el problema de clusteriación utilizando Algoritmos Evolutivos.\n",
    "Nuestro acercamiento intenta optimizar la función de pérdida TWVC (la función objetivo de k-medias) sumada con dos penalizaciones, una para garantizar el balanceo en cantidad de clientes y otra para garantizar el balanceo en volumen.\n",
    "\n",
    "\n",
    "El código de EvoCluster está disponible en https://github.com/RaneemQaddoura/EvoCluster . La versión en esta carpeta fue modificada en los archivos objectives.py, CFFA.py y optimizer.py para poder optimizar nuestra función de pérdida utilizando el optimizador FFA.\n",
    "\n",
    "Este notebook esta basado en el que los autores presentan en la página. Los cambios permiten optimizar cualquier función objetivo con cualquier optimizador a excepción de la función que proponemos, que solo se puede optimizar utilizando FFA."
   ]
  },
  {
   "cell_type": "code",
   "execution_count": 1,
   "metadata": {},
   "outputs": [],
   "source": [
    "import pickle\n",
    "import pandas as pd\n",
    "from sklearn.preprocessing import StandardScaler\n",
    "import numpy as np\n",
    "import matplotlib.pyplot as plt\n",
    "\n",
    "\n",
    "data = pd.read_csv('ubicaciones.csv')\n",
    "\n",
    "vols = np.array(data['Vol_Entrega'])\n",
    "scaler = StandardScaler()\n",
    "coords = scaler.fit_transform(data[['lat', 'lon']].to_numpy())"
   ]
  },
  {
   "cell_type": "code",
   "execution_count": 2,
   "metadata": {
    "id": "cFF9ioDfyppV"
   },
   "outputs": [],
   "source": [
    "# Select optimizers\n",
    "# \"SSA\",\"PSO\",\"GA\",\"BAT\",\"FFA\",\"GWO\",\"WOA\",\"MVO\",\"MFO\",\"CS\"\n",
    "optimizer=[\"FFA\"]"
   ]
  },
  {
   "cell_type": "code",
   "execution_count": 3,
   "metadata": {
    "id": "SuWo96bB6ohe"
   },
   "outputs": [],
   "source": [
    "# Select objective function\n",
    "# \"SSE\",\"TWCV\",\"SC\",\"DB\",\"DI\"\n",
    "objectivefunc=[\"TWCV_vol\"] "
   ]
  },
  {
   "cell_type": "code",
   "execution_count": 4,
   "metadata": {
    "id": "DQpzhArU65Px"
   },
   "outputs": [],
   "source": [
    "# Select data sets\n",
    "dataset_List = [\"coords\"]"
   ]
  },
  {
   "cell_type": "code",
   "execution_count": 5,
   "metadata": {
    "id": "CQyWvdS3Ipgt"
   },
   "outputs": [],
   "source": [
    "# Select number of repetitions for each experiment. \n",
    "# To obtain meaningful statistical results, usually 30 independent runs are executed for each algorithm.\n",
    "NumOfRuns=2"
   ]
  },
  {
   "cell_type": "code",
   "execution_count": 6,
   "metadata": {
    "id": "2djrIRh26sKB"
   },
   "outputs": [],
   "source": [
    "# Select general parameters for all optimizers (population size, number of iterations) ....\n",
    "params = {'PopulationSize' : 100, 'Iterations' : 100}"
   ]
  },
  {
   "cell_type": "code",
   "execution_count": 7,
   "metadata": {
    "id": "aJb075Np62GM"
   },
   "outputs": [],
   "source": [
    "#Choose whether to Export the results in different formats\n",
    "export_flags = {'Export_avg':True, 'Export_details':True, 'Export_details_labels':True, \n",
    "'Export_convergence':True, 'Export_boxplot':True}"
   ]
  },
  {
   "cell_type": "markdown",
   "metadata": {
    "id": "KAgXf1QkZD7X"
   },
   "source": [
    "<h2>Run Framework</h2>"
   ]
  },
  {
   "cell_type": "code",
   "execution_count": 8,
   "metadata": {
    "colab": {
     "base_uri": "https://localhost:8080/"
    },
    "id": "APzDcxiwI8A2",
    "outputId": "78e128cf-2a37-46e9-89bf-6dc3dac179d3",
    "scrolled": true
   },
   "outputs": [
    {
     "name": "stdout",
     "output_type": "stream",
     "text": [
      "Dataset: coords\n",
      "k: 6\n",
      "Run no.: 0\n",
      "Population Size: 100\n",
      "Iterations: 100\n",
      "FFA is optimizing  \"TWCV_vol\"\n",
      "['At iteration 0 the best fitness is 1648.1773006259186']\n",
      "['At iteration 1 the best fitness is 1648.1773006259186']\n",
      "['At iteration 2 the best fitness is 1587.4960031403032']\n",
      "['At iteration 3 the best fitness is 1587.4960031403032']\n",
      "['At iteration 4 the best fitness is 1587.4960031403032']\n",
      "['At iteration 5 the best fitness is 1587.4960031403032']\n",
      "['At iteration 6 the best fitness is 1587.4960031403032']\n",
      "['At iteration 7 the best fitness is 1587.4960031403032']\n",
      "['At iteration 8 the best fitness is 1559.1372626902253']\n",
      "['At iteration 9 the best fitness is 1551.332213151882']\n",
      "['At iteration 10 the best fitness is 1534.654292577122']\n",
      "['At iteration 11 the best fitness is 1527.6306706013236']\n",
      "['At iteration 12 the best fitness is 1527.6306706013236']\n",
      "['At iteration 13 the best fitness is 1518.340575168849']\n",
      "['At iteration 14 the best fitness is 1518.340575168849']\n",
      "['At iteration 15 the best fitness is 1517.7281164809676']\n",
      "['At iteration 16 the best fitness is 1503.3355906123638']\n",
      "['At iteration 17 the best fitness is 1503.3355906123638']\n",
      "['At iteration 18 the best fitness is 1494.9206681505807']\n",
      "['At iteration 19 the best fitness is 1494.9206681505807']\n",
      "['At iteration 20 the best fitness is 1484.4852291522545']\n",
      "['At iteration 21 the best fitness is 1482.1855038960312']\n",
      "['At iteration 22 the best fitness is 1482.1855038960312']\n",
      "['At iteration 23 the best fitness is 1482.1855038960312']\n",
      "['At iteration 24 the best fitness is 1482.1855038960312']\n",
      "['At iteration 25 the best fitness is 1481.9979433599572']\n",
      "['At iteration 26 the best fitness is 1479.6062635011976']\n",
      "['At iteration 27 the best fitness is 1479.6062635011976']\n",
      "['At iteration 28 the best fitness is 1479.511745337924']\n",
      "['At iteration 29 the best fitness is 1478.4545765483151']\n",
      "['At iteration 30 the best fitness is 1477.8427035476152']\n",
      "['At iteration 31 the best fitness is 1477.2599280012018']\n",
      "['At iteration 32 the best fitness is 1476.8133358850168']\n",
      "['At iteration 33 the best fitness is 1476.0452416610685']\n",
      "['At iteration 34 the best fitness is 1474.280769443437']\n",
      "['At iteration 35 the best fitness is 1474.280769443437']\n",
      "['At iteration 36 the best fitness is 1474.280769443437']\n",
      "['At iteration 37 the best fitness is 1473.2673648734485']\n",
      "['At iteration 38 the best fitness is 1473.2673648734485']\n",
      "['At iteration 39 the best fitness is 1472.9572582908027']\n",
      "['At iteration 40 the best fitness is 1472.0235706518697']\n",
      "['At iteration 41 the best fitness is 1470.02883435876']\n",
      "['At iteration 42 the best fitness is 1470.02883435876']\n",
      "['At iteration 43 the best fitness is 1469.6226338097404']\n",
      "['At iteration 44 the best fitness is 1469.6226338097404']\n",
      "['At iteration 45 the best fitness is 1468.804862527758']\n",
      "['At iteration 46 the best fitness is 1468.804862527758']\n",
      "['At iteration 47 the best fitness is 1468.6047645031422']\n",
      "['At iteration 48 the best fitness is 1468.3203342435036']\n",
      "['At iteration 49 the best fitness is 1467.8493496110113']\n",
      "['At iteration 50 the best fitness is 1467.8493496110113']\n",
      "['At iteration 51 the best fitness is 1467.5313184025033']\n",
      "['At iteration 52 the best fitness is 1467.5313184025033']\n",
      "['At iteration 53 the best fitness is 1467.322241208159']\n",
      "['At iteration 54 the best fitness is 1467.0291536922064']\n",
      "['At iteration 55 the best fitness is 1467.022662443238']\n",
      "['At iteration 56 the best fitness is 1467.022662443238']\n",
      "['At iteration 57 the best fitness is 1467.022662443238']\n",
      "['At iteration 58 the best fitness is 1467.022662443238']\n",
      "['At iteration 59 the best fitness is 1466.9774637089085']\n",
      "['At iteration 60 the best fitness is 1466.9257434533874']\n",
      "['At iteration 61 the best fitness is 1466.851478468223']\n",
      "['At iteration 62 the best fitness is 1466.851478468223']\n",
      "['At iteration 63 the best fitness is 1466.6784865681152']\n",
      "['At iteration 64 the best fitness is 1466.5901107042228']\n",
      "['At iteration 65 the best fitness is 1466.5901107042228']\n",
      "['At iteration 66 the best fitness is 1466.5901107042228']\n",
      "['At iteration 67 the best fitness is 1466.3892180892694']\n",
      "['At iteration 68 the best fitness is 1466.26756781424']\n",
      "['At iteration 69 the best fitness is 1466.26756781424']\n",
      "['At iteration 70 the best fitness is 1466.256567597069']\n",
      "['At iteration 71 the best fitness is 1466.256567597069']\n",
      "['At iteration 72 the best fitness is 1466.256567597069']\n",
      "['At iteration 73 the best fitness is 1466.232833608034']\n",
      "['At iteration 74 the best fitness is 1466.232833608034']\n",
      "['At iteration 75 the best fitness is 1466.232833608034']\n",
      "['At iteration 76 the best fitness is 1466.2326660100516']\n",
      "['At iteration 77 the best fitness is 1466.228832432941']\n",
      "['At iteration 78 the best fitness is 1466.228832432941']\n",
      "['At iteration 79 the best fitness is 1466.228832432941']\n",
      "['At iteration 80 the best fitness is 1466.2065153596743']\n",
      "['At iteration 81 the best fitness is 1466.202681782564']\n",
      "['At iteration 82 the best fitness is 1466.202681782564']\n",
      "['At iteration 83 the best fitness is 1466.202681782564']\n",
      "['At iteration 84 the best fitness is 1466.202681782564']\n",
      "['At iteration 85 the best fitness is 1466.202681782564']\n",
      "['At iteration 86 the best fitness is 1466.202681782564']\n",
      "['At iteration 87 the best fitness is 1466.202681782564']\n",
      "['At iteration 88 the best fitness is 1466.202681782564']\n",
      "['At iteration 89 the best fitness is 1466.202681782564']\n",
      "['At iteration 90 the best fitness is 1466.202681782564']\n",
      "['At iteration 91 the best fitness is 1466.202681782564']\n",
      "['At iteration 92 the best fitness is 1466.202681782564']\n",
      "['At iteration 93 the best fitness is 1466.202681782564']\n",
      "['At iteration 94 the best fitness is 1466.202681782564']\n",
      "['At iteration 95 the best fitness is 1466.202681782564']\n",
      "['At iteration 96 the best fitness is 1466.202681782564']\n",
      "['At iteration 97 the best fitness is 1466.202681782564']\n",
      "['At iteration 98 the best fitness is 1466.202681782564']\n",
      "['At iteration 99 the best fitness is 1466.202681782564']\n",
      "Dataset: coords\n",
      "k: 6\n",
      "Run no.: 1\n",
      "Population Size: 100\n",
      "Iterations: 100\n",
      "FFA is optimizing  \"TWCV_vol\"\n",
      "['At iteration 0 the best fitness is 1707.9188221349966']\n",
      "['At iteration 1 the best fitness is 1684.026107192359']\n",
      "['At iteration 2 the best fitness is 1538.4828699430984']\n",
      "['At iteration 3 the best fitness is 1518.149367417938']\n",
      "['At iteration 4 the best fitness is 1490.039905924269']\n",
      "['At iteration 5 the best fitness is 1490.039905924269']\n",
      "['At iteration 6 the best fitness is 1490.039905924269']\n",
      "['At iteration 7 the best fitness is 1474.7802335537817']\n",
      "['At iteration 8 the best fitness is 1474.7802335537817']\n",
      "['At iteration 9 the best fitness is 1470.348722303997']\n",
      "['At iteration 10 the best fitness is 1470.348722303997']\n",
      "['At iteration 11 the best fitness is 1470.348722303997']\n",
      "['At iteration 12 the best fitness is 1466.9477606688108']\n",
      "['At iteration 13 the best fitness is 1466.9477606688108']\n",
      "['At iteration 14 the best fitness is 1465.7425067529778']\n",
      "['At iteration 15 the best fitness is 1465.7425067529778']\n",
      "['At iteration 16 the best fitness is 1465.7425067529778']\n",
      "['At iteration 17 the best fitness is 1459.9610237407514']\n",
      "['At iteration 18 the best fitness is 1459.9610237407514']\n",
      "['At iteration 19 the best fitness is 1459.9610237407514']\n",
      "['At iteration 20 the best fitness is 1459.9610237407514']\n",
      "['At iteration 21 the best fitness is 1459.7354250748126']\n",
      "['At iteration 22 the best fitness is 1457.3071440151236']\n",
      "['At iteration 23 the best fitness is 1457.3071440151236']\n",
      "['At iteration 24 the best fitness is 1457.3071440151236']\n",
      "['At iteration 25 the best fitness is 1456.4784719452668']\n",
      "['At iteration 26 the best fitness is 1456.4784719452668']\n",
      "['At iteration 27 the best fitness is 1456.4784719452668']\n",
      "['At iteration 28 the best fitness is 1454.9965294824583']\n",
      "['At iteration 29 the best fitness is 1454.2781179235485']\n",
      "['At iteration 30 the best fitness is 1454.2781179235485']\n",
      "['At iteration 31 the best fitness is 1453.8774648009842']\n",
      "['At iteration 32 the best fitness is 1453.5181135528037']\n",
      "['At iteration 33 the best fitness is 1453.5181135528037']\n",
      "['At iteration 34 the best fitness is 1453.5181135528037']\n",
      "['At iteration 35 the best fitness is 1453.5181135528037']\n",
      "['At iteration 36 the best fitness is 1453.2301989819894']\n"
     ]
    },
    {
     "name": "stdout",
     "output_type": "stream",
     "text": [
      "['At iteration 37 the best fitness is 1453.2301989819894']\n",
      "['At iteration 38 the best fitness is 1452.5294984965221']\n",
      "['At iteration 39 the best fitness is 1452.5294984965221']\n",
      "['At iteration 40 the best fitness is 1451.9831302637556']\n",
      "['At iteration 41 the best fitness is 1451.892771041346']\n",
      "['At iteration 42 the best fitness is 1451.772365248793']\n",
      "['At iteration 43 the best fitness is 1451.730488782784']\n",
      "['At iteration 44 the best fitness is 1451.583518589941']\n",
      "['At iteration 45 the best fitness is 1451.583518589941']\n",
      "['At iteration 46 the best fitness is 1451.583518589941']\n",
      "['At iteration 47 the best fitness is 1451.583518589941']\n",
      "['At iteration 48 the best fitness is 1451.56816656207']\n",
      "['At iteration 49 the best fitness is 1451.5426822066424']\n",
      "['At iteration 50 the best fitness is 1451.5426822066424']\n",
      "['At iteration 51 the best fitness is 1451.4290879706286']\n",
      "['At iteration 52 the best fitness is 1451.4262172275312']\n",
      "['At iteration 53 the best fitness is 1451.367002015612']\n",
      "['At iteration 54 the best fitness is 1451.3173799048423']\n",
      "['At iteration 55 the best fitness is 1451.216109472446']\n",
      "['At iteration 56 the best fitness is 1451.216109472446']\n",
      "['At iteration 57 the best fitness is 1451.1626228559953']\n",
      "['At iteration 58 the best fitness is 1451.0695531453248']\n",
      "['At iteration 59 the best fitness is 1451.0695531453248']\n",
      "['At iteration 60 the best fitness is 1451.0602257654054']\n",
      "['At iteration 61 the best fitness is 1451.0464745111976']\n",
      "['At iteration 62 the best fitness is 1451.0464745111976']\n",
      "['At iteration 63 the best fitness is 1451.0325650735335']\n",
      "['At iteration 64 the best fitness is 1451.0289206485547']\n",
      "['At iteration 65 the best fitness is 1451.0100612151195']\n",
      "['At iteration 66 the best fitness is 1451.0040599562622']\n",
      "['At iteration 67 the best fitness is 1451.0040599562622']\n",
      "['At iteration 68 the best fitness is 1451.0040599562622']\n",
      "['At iteration 69 the best fitness is 1451.0039364055906']\n",
      "['At iteration 70 the best fitness is 1451.0039364055906']\n",
      "['At iteration 71 the best fitness is 1451.0039364055906']\n",
      "['At iteration 72 the best fitness is 1451.0034803409526']\n",
      "['At iteration 73 the best fitness is 1451.0034803409526']\n",
      "['At iteration 74 the best fitness is 1451.0034803409526']\n",
      "['At iteration 75 the best fitness is 1451.0034803409526']\n",
      "['At iteration 76 the best fitness is 1451.0034803409526']\n",
      "['At iteration 77 the best fitness is 1451.002160118138']\n",
      "['At iteration 78 the best fitness is 1451.0002099758453']\n",
      "['At iteration 79 the best fitness is 1451.0002099758453']\n",
      "['At iteration 80 the best fitness is 1451.0002099758453']\n",
      "['At iteration 81 the best fitness is 1451.0002099758453']\n",
      "['At iteration 82 the best fitness is 1451.0002099758453']\n",
      "['At iteration 83 the best fitness is 1451.0002099758453']\n",
      "['At iteration 84 the best fitness is 1451.0002099758453']\n",
      "['At iteration 85 the best fitness is 1451.0002099758453']\n",
      "['At iteration 86 the best fitness is 1451.0002099758453']\n",
      "['At iteration 87 the best fitness is 1451.0002099758453']\n",
      "['At iteration 88 the best fitness is 1451.0002099758453']\n",
      "['At iteration 89 the best fitness is 1451.0002099758453']\n",
      "['At iteration 90 the best fitness is 1451.0002099758453']\n",
      "['At iteration 91 the best fitness is 1451.0002099758453']\n",
      "['At iteration 92 the best fitness is 1451.0002099758453']\n",
      "['At iteration 93 the best fitness is 1451.0002099758453']\n",
      "['At iteration 94 the best fitness is 1451.0002099758453']\n",
      "['At iteration 95 the best fitness is 1451.0002099758453']\n",
      "['At iteration 96 the best fitness is 1451.0002099758453']\n",
      "['At iteration 97 the best fitness is 1451.0002099758453']\n",
      "['At iteration 98 the best fitness is 1451.0002099758453']\n",
      "['At iteration 99 the best fitness is 1451.0002099758453']\n",
      "Execution completed\n"
     ]
    }
   ],
   "source": [
    "# Run EvoCluster\n",
    "from optimizer import run\n",
    "run(optimizer, objectivefunc, dataset_List, NumOfRuns, params, export_flags, n_clusters=[6], auto_cluster=False, labels_exist=False, vols=vols, gamma=0.1, gamma_nodes=0.8)"
   ]
  },
  {
   "cell_type": "markdown",
   "metadata": {
    "id": "1mB9AVhQuwbH"
   },
   "source": [
    "<h2>Results Files and Plots</h2>"
   ]
  },
  {
   "cell_type": "code",
   "execution_count": 9,
   "metadata": {
    "id": "642Oh7QUpRhL"
   },
   "outputs": [],
   "source": [
    "#import some useful packages to view the results' files in colab\n",
    "import pandas as pd\n",
    "import os\n",
    "import datetime\n"
   ]
  },
  {
   "cell_type": "code",
   "execution_count": 10,
   "metadata": {
    "colab": {
     "base_uri": "https://localhost:8080/",
     "height": 49,
     "referenced_widgets": [
      "8c784eb949494825998b0f0be85e595a",
      "0cf112c33f974df193faa0a57e7640bd",
      "6796f1bc6d1d4ecab85d46b7cd7461bf"
     ]
    },
    "id": "UOLHaWwBRf7D",
    "outputId": "a29a1018-1270-4a41-9fe3-919d51fd7f09"
   },
   "outputs": [],
   "source": [
    "#Select the experiments folder\n",
    "foldernames = [filename for filename in os.listdir() if filename.startswith(str(datetime.datetime.now().year))]"
   ]
  },
  {
   "cell_type": "code",
   "execution_count": 11,
   "metadata": {},
   "outputs": [
    {
     "name": "stdout",
     "output_type": "stream",
     "text": [
      "['2020-11-29-11-09-26', '2020-11-29-11-10-20', '2020-11-29-11-10-37']\n"
     ]
    }
   ],
   "source": [
    "print(foldernames)"
   ]
  },
  {
   "cell_type": "code",
   "execution_count": 12,
   "metadata": {
    "id": "xm8UuPRA6uIb"
   },
   "outputs": [],
   "source": [
    "#Get the selected folder\n",
    "foldername = '2020-11-29-11-10-37'"
   ]
  },
  {
   "cell_type": "markdown",
   "metadata": {
    "id": "sXSfvROovXRc"
   },
   "source": [
    "<h4>Detailed Results File</h4>"
   ]
  },
  {
   "cell_type": "code",
   "execution_count": 13,
   "metadata": {
    "colab": {
     "base_uri": "https://localhost:8080/",
     "height": 185
    },
    "id": "RXU4upcgqcX_",
    "outputId": "34f53e68-3649-40b2-e6b9-ee95c1ca8eea"
   },
   "outputs": [
    {
     "data": {
      "text/html": [
       "<div>\n",
       "<style scoped>\n",
       "    .dataframe tbody tr th:only-of-type {\n",
       "        vertical-align: middle;\n",
       "    }\n",
       "\n",
       "    .dataframe tbody tr th {\n",
       "        vertical-align: top;\n",
       "    }\n",
       "\n",
       "    .dataframe thead th {\n",
       "        text-align: right;\n",
       "    }\n",
       "</style>\n",
       "<table border=\"1\" class=\"dataframe\">\n",
       "  <thead>\n",
       "    <tr style=\"text-align: right;\">\n",
       "      <th></th>\n",
       "      <th>Dataset</th>\n",
       "      <th>Optimizer</th>\n",
       "      <th>objfname</th>\n",
       "      <th>k</th>\n",
       "      <th>ExecutionTime</th>\n",
       "      <th>SSE</th>\n",
       "      <th>TWCV</th>\n",
       "      <th>SC</th>\n",
       "      <th>DI</th>\n",
       "      <th>DB</th>\n",
       "      <th>...</th>\n",
       "      <th>Iter91</th>\n",
       "      <th>Iter92</th>\n",
       "      <th>Iter93</th>\n",
       "      <th>Iter94</th>\n",
       "      <th>Iter95</th>\n",
       "      <th>Iter96</th>\n",
       "      <th>Iter97</th>\n",
       "      <th>Iter98</th>\n",
       "      <th>Iter99</th>\n",
       "      <th>Iter100</th>\n",
       "    </tr>\n",
       "  </thead>\n",
       "  <tbody>\n",
       "    <tr>\n",
       "      <th>0</th>\n",
       "      <td>coords</td>\n",
       "      <td>FFA</td>\n",
       "      <td>TWCV_vol</td>\n",
       "      <td>6</td>\n",
       "      <td>429.83</td>\n",
       "      <td>537.83</td>\n",
       "      <td>185.7</td>\n",
       "      <td>0.31</td>\n",
       "      <td>1.0</td>\n",
       "      <td>0.83</td>\n",
       "      <td>...</td>\n",
       "      <td>1466.2</td>\n",
       "      <td>1466.2</td>\n",
       "      <td>1466.2</td>\n",
       "      <td>1466.2</td>\n",
       "      <td>1466.2</td>\n",
       "      <td>1466.2</td>\n",
       "      <td>1466.2</td>\n",
       "      <td>1466.2</td>\n",
       "      <td>1466.2</td>\n",
       "      <td>1466.2</td>\n",
       "    </tr>\n",
       "    <tr>\n",
       "      <th>1</th>\n",
       "      <td>coords</td>\n",
       "      <td>FFA</td>\n",
       "      <td>TWCV_vol</td>\n",
       "      <td>6</td>\n",
       "      <td>426.90</td>\n",
       "      <td>283.78</td>\n",
       "      <td>170.5</td>\n",
       "      <td>0.31</td>\n",
       "      <td>1.0</td>\n",
       "      <td>0.86</td>\n",
       "      <td>...</td>\n",
       "      <td>1451.0</td>\n",
       "      <td>1451.0</td>\n",
       "      <td>1451.0</td>\n",
       "      <td>1451.0</td>\n",
       "      <td>1451.0</td>\n",
       "      <td>1451.0</td>\n",
       "      <td>1451.0</td>\n",
       "      <td>1451.0</td>\n",
       "      <td>1451.0</td>\n",
       "      <td>1451.0</td>\n",
       "    </tr>\n",
       "  </tbody>\n",
       "</table>\n",
       "<p>2 rows × 111 columns</p>\n",
       "</div>"
      ],
      "text/plain": [
       "  Dataset Optimizer  objfname  k  ExecutionTime     SSE   TWCV    SC   DI  \\\n",
       "0  coords       FFA  TWCV_vol  6         429.83  537.83  185.7  0.31  1.0   \n",
       "1  coords       FFA  TWCV_vol  6         426.90  283.78  170.5  0.31  1.0   \n",
       "\n",
       "     DB  ...  Iter91  Iter92  Iter93  Iter94  Iter95  Iter96  Iter97  Iter98  \\\n",
       "0  0.83  ...  1466.2  1466.2  1466.2  1466.2  1466.2  1466.2  1466.2  1466.2   \n",
       "1  0.86  ...  1451.0  1451.0  1451.0  1451.0  1451.0  1451.0  1451.0  1451.0   \n",
       "\n",
       "   Iter99  Iter100  \n",
       "0  1466.2   1466.2  \n",
       "1  1451.0   1451.0  \n",
       "\n",
       "[2 rows x 111 columns]"
      ]
     },
     "execution_count": 13,
     "metadata": {},
     "output_type": "execute_result"
    }
   ],
   "source": [
    "#Show the detailed results file\n",
    "filename = foldername +'/experiment_details.csv' \n",
    "df = pd.read_csv(filename)\n",
    "df.head(12)"
   ]
  },
  {
   "cell_type": "markdown",
   "metadata": {
    "id": "eM3DYsgGvaxU"
   },
   "source": [
    "<h4>Labels Results File</h4>"
   ]
  },
  {
   "cell_type": "code",
   "execution_count": 14,
   "metadata": {
    "colab": {
     "base_uri": "https://localhost:8080/",
     "height": 185
    },
    "id": "we9rE-wPqiHt",
    "outputId": "3610e864-5a58-48ca-8b71-e8b20fe5aab9"
   },
   "outputs": [
    {
     "data": {
      "text/html": [
       "<div>\n",
       "<style scoped>\n",
       "    .dataframe tbody tr th:only-of-type {\n",
       "        vertical-align: middle;\n",
       "    }\n",
       "\n",
       "    .dataframe tbody tr th {\n",
       "        vertical-align: top;\n",
       "    }\n",
       "\n",
       "    .dataframe thead th {\n",
       "        text-align: right;\n",
       "    }\n",
       "</style>\n",
       "<table border=\"1\" class=\"dataframe\">\n",
       "  <thead>\n",
       "    <tr style=\"text-align: right;\">\n",
       "      <th></th>\n",
       "      <th>Dataset</th>\n",
       "      <th>Optimizer</th>\n",
       "      <th>objfname</th>\n",
       "      <th>k</th>\n",
       "      <th>label0</th>\n",
       "      <th>label1</th>\n",
       "      <th>label2</th>\n",
       "      <th>label3</th>\n",
       "      <th>label4</th>\n",
       "      <th>label5</th>\n",
       "      <th>...</th>\n",
       "      <th>label3615</th>\n",
       "      <th>label3616</th>\n",
       "      <th>label3617</th>\n",
       "      <th>label3618</th>\n",
       "      <th>label3619</th>\n",
       "      <th>label3620</th>\n",
       "      <th>label3621</th>\n",
       "      <th>label3622</th>\n",
       "      <th>label3623</th>\n",
       "      <th>label3624</th>\n",
       "    </tr>\n",
       "  </thead>\n",
       "  <tbody>\n",
       "    <tr>\n",
       "      <th>1</th>\n",
       "      <td>coords</td>\n",
       "      <td>FFA</td>\n",
       "      <td>TWCV_vol</td>\n",
       "      <td>6</td>\n",
       "      <td>4</td>\n",
       "      <td>0</td>\n",
       "      <td>2</td>\n",
       "      <td>4</td>\n",
       "      <td>2</td>\n",
       "      <td>4</td>\n",
       "      <td>...</td>\n",
       "      <td>2</td>\n",
       "      <td>4</td>\n",
       "      <td>5</td>\n",
       "      <td>4</td>\n",
       "      <td>4</td>\n",
       "      <td>1</td>\n",
       "      <td>1</td>\n",
       "      <td>3</td>\n",
       "      <td>4</td>\n",
       "      <td>4</td>\n",
       "    </tr>\n",
       "    <tr>\n",
       "      <th>2</th>\n",
       "      <td>coords</td>\n",
       "      <td>FFA</td>\n",
       "      <td>TWCV_vol</td>\n",
       "      <td>6</td>\n",
       "      <td>1</td>\n",
       "      <td>1</td>\n",
       "      <td>0</td>\n",
       "      <td>1</td>\n",
       "      <td>0</td>\n",
       "      <td>0</td>\n",
       "      <td>...</td>\n",
       "      <td>0</td>\n",
       "      <td>3</td>\n",
       "      <td>2</td>\n",
       "      <td>0</td>\n",
       "      <td>1</td>\n",
       "      <td>4</td>\n",
       "      <td>4</td>\n",
       "      <td>3</td>\n",
       "      <td>3</td>\n",
       "      <td>3</td>\n",
       "    </tr>\n",
       "  </tbody>\n",
       "</table>\n",
       "<p>2 rows × 3629 columns</p>\n",
       "</div>"
      ],
      "text/plain": [
       "  Dataset Optimizer  objfname  k label0 label1 label2 label3 label4 label5  \\\n",
       "1  coords       FFA  TWCV_vol  6      4      0      2      4      2      4   \n",
       "2  coords       FFA  TWCV_vol  6      1      1      0      1      0      0   \n",
       "\n",
       "   ... label3615 label3616 label3617 label3618 label3619 label3620 label3621  \\\n",
       "1  ...         2         4         5         4         4         1         1   \n",
       "2  ...         0         3         2         0         1         4         4   \n",
       "\n",
       "  label3622 label3623 label3624  \n",
       "1         3         4         4  \n",
       "2         3         3         3  \n",
       "\n",
       "[2 rows x 3629 columns]"
      ]
     },
     "execution_count": 14,
     "metadata": {},
     "output_type": "execute_result"
    }
   ],
   "source": [
    "#Show the labels results file\n",
    "filename = foldername +'/experiment_details_Labels.csv' \n",
    "header_names=['Dataset','Optimizer','objfname', 'k'] + ['label' + str(i) for i in range(3625)]\n",
    "df = pd.read_csv(filename,names=header_names,dtype=object)[1:]\n",
    "df.head(12)"
   ]
  },
  {
   "cell_type": "code",
   "execution_count": 15,
   "metadata": {
    "colab": {
     "base_uri": "https://localhost:8080/",
     "height": 267
    },
    "id": "8ZIPLxEPOaFH",
    "outputId": "42f249e2-8a88-4e04-cd65-7a1953228126"
   },
   "outputs": [
    {
     "data": {
      "text/plain": [
       "<Figure size 432x288 with 0 Axes>"
      ]
     },
     "metadata": {},
     "output_type": "display_data"
    },
    {
     "data": {
      "image/png": "[encoded data removed]",
      "text/plain": [
       "<Figure size 432x288 with 1 Axes>"
      ]
     },
     "metadata": {
      "needs_background": "light"
     },
     "output_type": "display_data"
    }
   ],
   "source": [
    "labs=df.iloc[1][['label%d'%i for i in range(3625)]].to_numpy().astype(int)\n",
    "plt.figure()\n",
    "plt.scatter(coords[:,0], coords[:,1], c=labs)\n",
    "plt.show()"
   ]
  },
  {
   "cell_type": "code",
   "execution_count": 16,
   "metadata": {},
   "outputs": [],
   "source": [
    "def point_clust_dist(point, clust):\n",
    "    dif = (point-clust)**2\n",
    "    return dif.sum(1).mean()"
   ]
  },
  {
   "cell_type": "code",
   "execution_count": 17,
   "metadata": {},
   "outputs": [],
   "source": [
    "clust_points = [coords[labs==i] for i in range(6)]"
   ]
  },
  {
   "cell_type": "code",
   "execution_count": 19,
   "metadata": {
    "id": "bftTSLV4vwq0"
   },
   "outputs": [],
   "source": [
    "for r in range(NumOfRuns):\n",
    "    labs=df.iloc[r][['label%d'%i for i in range(3625)]].to_numpy().astype(int)\n",
    "    means = np.array([np.mean(coords[np.where(labs==i)], axis=0) for i in range(6)])\n",
    "    results = np.zeros((len(data), 6))\n",
    "    for i in range(len(data)):\n",
    "        results[i][labs[i]]=1\n",
    "        if data.iloc[i]['Frecuencia'] >1:\n",
    "            distances = np.array([point_clust_dist(coords[i], clust_points[c]) for c in range(6)])\n",
    "            dif = np.argsort(distances)\n",
    "            if labs[i]==dif[0]:\n",
    "                results[i][dif[1]]=1\n",
    "            else:\n",
    "                results[i][dif[0]]=1\n",
    "            if data.iloc[i]['Frecuencia'] ==3:\n",
    "                if labs[i] == dif[0] or labs[i] == dif[1]:\n",
    "                    results[i][dif[2]]=1\n",
    "                else:\n",
    "                    results[i][dif[1]]=1\n",
    "#     results = np.zeros((len(data), 6))\n",
    "#     for i in range(len(data)):\n",
    "#         results[i][labs[i]]=1\n",
    "#         if data.iloc[i]['Frecuencia'] >1:\n",
    "#             dif = (coords[i][0]-means[:,0])**2\n",
    "#             dif += (coords[i][1]-means[:,1])**2\n",
    "#             dif = np.argsort(dif)\n",
    "#             if labs[i]==dif[0]:\n",
    "#                 results[i][dif[1]] = 1\n",
    "#             else:\n",
    "#                 results[i][dif[0]] = 1\n",
    "#             if data.iloc[i]['Frecuencia'] ==3:\n",
    "#                 if labs[i]==dif[0] or labs[i]==dif[1]:\n",
    "#                     results[i][dif[2]] = 1\n",
    "#                 else:\n",
    "#                     results[i][dif[1]] = 1\n",
    "#     if data.iloc[i]['Frecuencia'] != sum(results[i]):\n",
    "#         print(results[i])\n",
    "    with open('id_cliente.pickle', 'rb') as f:\n",
    "      id_cliente = pickle.load(f)\n",
    "\n",
    "    results_df = pd.DataFrame(results)\n",
    "\n",
    "    results_df.columns = ['D1', 'D2', 'D3', 'D4', 'D5', 'D6']\n",
    "\n",
    "    results_df['Id_Cliente'] = id_cliente\n",
    "\n",
    "    results_df = results_df[['Id_Cliente', 'D1', 'D2', 'D3', 'D4', 'D5', 'D6']].astype(int)\n",
    "\n",
    "    results_df.to_csv('%s%d.csv'%(optimizer[0],r), header=True, index=False)"
   ]
  },
  {
   "cell_type": "code",
   "execution_count": 200,
   "metadata": {},
   "outputs": [
    {
     "name": "stdout",
     "output_type": "stream",
     "text": [
      "8031.6666666599995\n",
      "10657.499999993\n",
      "6487.0000000029995\n",
      "8107.33333333\n",
      "7534.5\n",
      "7016.50000001\n"
     ]
    }
   ],
   "source": [
    "for i in range(6):\n",
    "    print(sum(data[labs==i]['Vol_Entrega']))"
   ]
  },
  {
   "cell_type": "code",
   "execution_count": 202,
   "metadata": {},
   "outputs": [
    {
     "name": "stdout",
     "output_type": "stream",
     "text": [
      "[594. 784. 595. 711. 700. 593.]\n"
     ]
    }
   ],
   "source": [
    "print(np.sum(results, axis=0))"
   ]
  },
  {
   "cell_type": "code",
   "execution_count": 201,
   "metadata": {},
   "outputs": [
    {
     "data": {
      "text/plain": [
       "73.70982898426023"
      ]
     },
     "execution_count": 201,
     "metadata": {},
     "output_type": "execute_result"
    }
   ],
   "source": [
    "np.std(results.sum(0), axis=0)"
   ]
  },
  {
   "cell_type": "code",
   "execution_count": 176,
   "metadata": {},
   "outputs": [],
   "source": [
    "vols = np.expand_dims(data['Vol_Entrega'].to_numpy(), 1)"
   ]
  },
  {
   "cell_type": "code",
   "execution_count": 177,
   "metadata": {},
   "outputs": [],
   "source": [
    "delivered = results*vols"
   ]
  },
  {
   "cell_type": "code",
   "execution_count": 178,
   "metadata": {},
   "outputs": [
    {
     "data": {
      "text/plain": [
       "array([[ 0. ,  0. ,  0. ,  0. ,  2. ,  0. ],\n",
       "       [ 0. ,  0. ,  0. ,  0. , 17. ,  0. ],\n",
       "       [ 0. ,  0. ,  0. ,  0. ,  0. ,  2. ],\n",
       "       ...,\n",
       "       [ 0. ,  0. ,  6. ,  0. ,  0. ,  0. ],\n",
       "       [ 0. ,  0. , 31. ,  0. ,  0. ,  0. ],\n",
       "       [ 0. ,  0. , 18.5, 18.5,  0. ,  0. ]])"
      ]
     },
     "execution_count": 178,
     "metadata": {},
     "output_type": "execute_result"
    }
   ],
   "source": [
    "delivered"
   ]
  },
  {
   "cell_type": "code",
   "execution_count": 179,
   "metadata": {},
   "outputs": [
    {
     "name": "stdout",
     "output_type": "stream",
     "text": [
      "1836.101052247583\n"
     ]
    }
   ],
   "source": [
    "print(np.std(delivered.sum(0), axis=0))"
   ]
  },
  {
   "cell_type": "code",
   "execution_count": 180,
   "metadata": {},
   "outputs": [
    {
     "name": "stdout",
     "output_type": "stream",
     "text": [
      "573\n",
      "607\n",
      "567\n",
      "573\n",
      "644\n",
      "661\n"
     ]
    }
   ],
   "source": [
    "for i in range(6):\n",
    "    print(len(data[labs==i]))"
   ]
  },
  {
   "cell_type": "code",
   "execution_count": 181,
   "metadata": {
    "id": "JmNo_j1tSfvJ"
   },
   "outputs": [],
   "source": [
    "means = np.array([np.mean(coords[np.where(labs==i)], axis=0) for i in range(6)])"
   ]
  },
  {
   "cell_type": "code",
   "execution_count": 182,
   "metadata": {
    "id": "LvUyRMeZSgPx"
   },
   "outputs": [],
   "source": [
    "results = np.zeros((len(data), 6))"
   ]
  },
  {
   "cell_type": "code",
   "execution_count": null,
   "metadata": {
    "id": "NROs-1FdSfxd"
   },
   "outputs": [],
   "source": [
    "for i in range(len(data)):\n",
    "    results[i][labs[i]]=1\n",
    "    if data.iloc[i]['Frecuencia'] >1:\n",
    "        dif = (coords[i][0]-means[:,0])**2\n",
    "        dif += (coords[i][1]-means[:,1])**2\n",
    "        dif = np.argsort(dif)\n",
    "        if labs[i]==dif[0]:\n",
    "            results[i][dif[1]] = 1\n",
    "        else:\n",
    "            results[i][dif[0]] = 1\n",
    "        if data.iloc[i]['Frecuencia'] ==3:\n",
    "            if labs[i]==dif[0] or labs[i]==dif[1]:\n",
    "                results[i][dif[2]] = 1\n",
    "            else:\n",
    "                results[i][dif[1]] = 1\n",
    "    if data.iloc[i]['Frecuencia'] != sum(results[i]):\n",
    "        print(results[i])\n",
    "        "
   ]
  },
  {
   "cell_type": "code",
   "execution_count": null,
   "metadata": {
    "colab": {
     "base_uri": "https://localhost:8080/"
    },
    "id": "svK1UtSrSfz2",
    "outputId": "eeb76baa-0da4-41b8-d04d-b1374d7d5ac3"
   },
   "outputs": [
    {
     "data": {
      "text/plain": [
       "array([1., 0., 0., 1., 1., 0.])"
      ]
     },
     "execution_count": 305,
     "metadata": {
      "tags": []
     },
     "output_type": "execute_result"
    }
   ],
   "source": [
    "results[3]"
   ]
  },
  {
   "cell_type": "code",
   "execution_count": null,
   "metadata": {
    "id": "fpUPB35fSf2S"
   },
   "outputs": [],
   "source": [
    "import pickle\n",
    "with open('/content/id_cliente.pickle', 'rb') as f:\n",
    "    id_cliente = pickle.load(f)\n",
    "\n",
    "results_df = pd.DataFrame(results)\n",
    "\n",
    "results_df.columns = ['D1', 'D2', 'D3', 'D4', 'D5', 'D6']\n",
    "\n",
    "results_df['Id_Cliente'] = id_cliente\n",
    "\n",
    "results_df = results_df[['Id_Cliente', 'D1', 'D2', 'D3', 'D4', 'D5', 'D6']].astype(int)\n",
    "\n",
    "results_df.to_csv('GA1.csv', header=True, index=False)"
   ]
  }
 ],
 "metadata": {
  "colab": {
   "name": "Untitled5.ipynb",
   "provenance": []
  },
  "kernelspec": {
   "display_name": "Python 3",
   "language": "python",
   "name": "python3"
  },
  "language_info": {
   "codemirror_mode": {
    "name": "ipython",
    "version": 3
   },
   "file_extension": ".py",
   "mimetype": "text/x-python",
   "name": "python",
   "nbconvert_exporter": "python",
   "pygments_lexer": "ipython3",
   "version": "3.8.5"
  }
 },
 "nbformat": 4,
 "nbformat_minor": 1
}
